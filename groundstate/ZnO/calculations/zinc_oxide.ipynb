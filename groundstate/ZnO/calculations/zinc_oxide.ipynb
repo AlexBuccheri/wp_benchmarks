{
 "cells": [
  {
   "cell_type": "markdown",
   "metadata": {
    "collapsed": true,
    "pycharm": {
     "name": "#%% md\n"
    }
   },
   "source": [
    "# Ground State Zinc Oxide"
   ]
  },
  {
   "cell_type": "code",
   "execution_count": 10,
   "outputs": [
    {
     "name": "stdout",
     "output_type": "stream",
     "text": [
      "Minimum bond length between atomic numbers (8, 8): 3.2077121269530924\n",
      "Minimum bond length between atomic numbers (8, 30): 1.9738161289053884\n",
      "For each bond, compute the MT radius associated with the element with the smallest MT radius. \n",
      "Do this for each bond, and choose the minimum.\n",
      "[1.6039, 0.8868]\n",
      "Smallest muffin tin radius for element 8 is 0.79812, scaled by 0.9\n",
      "Use this to determine the MT radii for all other elements in the system, with optimal ratio \n",
      "determined by tabulated rkgmax ratios\n",
      "Atomic Number 8, MT radius 0.79812, sum of MT radii 1.59624, min_bond_length 3.2077121269530924\n",
      "Atomic Number 30, MT radius 0.9783467781935792, sum of MT radii 1.7764667781935792, min_bond_length 1.9738161289053884\n",
      "All bond and MT suggestions in angstrom\n"
     ]
    }
   ],
   "source": [
    "# Give some estimate for MT radii, maintaining a consistent ratio between Zn and O\n",
    "from src.materials import ZnOWurzite\n",
    "from src.optimal_muffin_tins import main\n",
    "\n",
    "assert ZnOWurzite.unit == 'angstrom'\n",
    "main(ZnOWurzite, scaling_factor=0.9)\n",
    "print(f\"All bond and MT suggestions in {ZnOWurzite.unit}\")"
   ],
   "metadata": {
    "collapsed": false,
    "pycharm": {
     "name": "#%%\n"
    }
   }
  },
  {
   "cell_type": "markdown",
   "source": [
    "#### MT Selection Summary\n",
    "\n",
    "Converting the minimum bond length to Bohr, between atomic numbers (8, 30): 3.357\n",
    "\n",
    "Smallest muffin tin radius in the system is for element 8: 0.79812 (angstrom, scaling factor = 0.9)\n",
    "Atomic Number 30, MT radius 0.9783467781935792 (angstrom scaling factor = 0.9)\n",
    "\n",
    "So in Bohr, try MT_O = 1.50 and MT_Zn = 1.85\n",
    "\n",
    "Dima's paper. DOI: 10.1103/PhysRevB.94.035118\n",
    "His MTs are: 1.6 Bohr for O and Zn, which seems a little small for Zn.\n",
    "In the case of binary materials, we use equal RMT for both species."
   ],
   "metadata": {
    "collapsed": false,
    "pycharm": {
     "name": "#%% md\n"
    }
   }
  },
  {
   "cell_type": "code",
   "execution_count": null,
   "outputs": [],
   "source": [
    "\n"
   ],
   "metadata": {
    "collapsed": false,
    "pycharm": {
     "name": "#%%\n"
    }
   }
  },
  {
   "cell_type": "code",
   "execution_count": 9,
   "outputs": [
    {
     "name": "stdout",
     "output_type": "stream",
     "text": [
      "HEX(a=3.2494, c=5.2038)\n",
      "{'array': array([[ 3.2494    ,  0.        ,  0.        ],\n",
      "       [-1.6247    ,  2.81406295,  0.        ],\n",
      "       [ 0.        ,  0.        ,  5.2038    ]])}\n",
      "/Users/alexanderbuccheri/Python/pycharm_projects/wp_benchmarks/groundstate/ZnO\n"
     ]
    }
   ],
   "source": [
    "# Look at difference between constructing the lattice with ASE, from lattice constants, and using PyMatGen\n",
    "import os\n",
    "import ase\n",
    "import numpy as np\n",
    "# Plot structure I imported with pymatgen structure\n",
    "# https://wiki.fysik.dtu.dk/ase/ase/visualize/visualize.html\n",
    "from ase.visualize import view\n",
    "\n",
    "# In angstrom\n",
    "# This looks right\n",
    "lattice_returned_by_pymatgen = np.array([[-1.624700, -2.814063, 0.000000], [-1.624700, 2.814063, 0.000000], [0.000000, 0.000000, -5.203800]])\n",
    "\n",
    "# Straight from the cif - angstrom and degrees\n",
    "cell = ase.geometry.cell.Cell.fromcellpar([3.249400, 3.249400, 5.203800, 90, 90, 120])\n",
    "\n",
    "# http://aflowlib.org/prototype-encyclopedia/trigonal_lattice.html#lattice10\n",
    "print(cell.get_bravais_lattice())\n",
    "print(vars(cell))\n",
    "\n",
    "# In angstrom ... this really doesn't look right, despite ASE saying it's a hexagonal lattice\n",
    "lattice_returned_by_ase = np.array([[3.2494,  0.,  0.], [-1.6247,  2.81406295,  0. ], [0.,  0.,  5.2038]])\n",
    "\n",
    "# Because the latice vectors constructed with ASE (above) do not look right, go with PyMatGen\n",
    "# Directory: zno\n",
    "#  pymatgen lattice vectors and positions\n",
    "# Written out to my_ZnO.cif - they look consistent.\n",
    "\n",
    "# Output pymatgen structure out as cif\n",
    "assert ZnOWurzite.unit == 'angstrom', \"ASE needs lattice in angstrom\"\n",
    "zno =  ase.Atoms(symbols=ZnOWurzite.elements, scaled_positions=ZnOWurzite.fractional_positions, cell=ZnOWurzite.lattice, pbc=True)\n",
    "print(os.getcwd())\n",
    "ase.io.write('my_ZnO.cif', zno)\n",
    "\n",
    "# Note, this is commented out because the cif visualisation with Vesta is much better.\n",
    "# Would prefer this, but it's not supported by pycharm view(atoms, viewer='ngl')\n",
    "# view(zno, viewer='x3d')"
   ],
   "metadata": {
    "collapsed": false,
    "pycharm": {
     "name": "#%%\n"
    }
   }
  },
  {
   "cell_type": "markdown",
   "source": [
    "## Shifted Atomic Positions\n",
    "\n",
    "Note, exciting will shift the atomic positions automatically for symmetry purposes:\n",
    "\n",
    "```\n",
    "<input>\n",
    "  <title>ZnO-PBEsol</title>\n",
    "  <structure speciespath=\".\">\n",
    "    <crystal>\n",
    "      <basevect>  -3.070237814      -5.317807985       0.000000000</basevect>\n",
    "      <basevect>  -3.070237814       5.317807985       0.000000000</basevect>\n",
    "      <basevect>   0.000000000       0.000000000      -9.833756099</basevect>\n",
    "    </crystal>\n",
    "    <species speciesfile=\"Zn.xml\" rmt=\"1.8500\">\n",
    "      <atom coord=\"0.0000000000      0.0000000000      0.0000000000\"/>\n",
    "      <atom coord=\"0.6666666660      0.3333333340      0.5000000000\"/>\n",
    "    </species>\n",
    "    <species speciesfile=\"O.xml\" rmt=\"1.5000\">\n",
    "      <atom coord=\"0.0000000000      0.0000000000      0.6179000000\"/>\n",
    "      <atom coord=\"0.6666666660      0.3333333340      0.1179000000\"/>\n",
    "    </species>\n",
    "  </structure>\n",
    "</input>\n",
    "```\n",
    "\n",
    "So one must use the output of geometry.xml to select the two atomic points.\n",
    "Choose bond length as:\n",
    "```\n",
    "    <path steps=\"100\">\n",
    "               <point coord=\"0.6666666660      0.3333333340      0.1179000000\"/>\n",
    "               <point coord=\"0.6666666660      0.3333333340      0.5000000000\"/>\n",
    "    </path>\n",
    "```"
   ],
   "metadata": {
    "collapsed": false,
    "pycharm": {
     "name": "#%% md\n"
    }
   }
  },
  {
   "cell_type": "code",
   "execution_count": 2,
   "outputs": [
    {
     "name": "stdout",
     "output_type": "stream",
     "text": [
      "Radial position where the charge density is a minimum: 1.935670591 bohr\n"
     ]
    },
    {
     "data": {
      "text/plain": "<Figure size 432x288 with 1 Axes>",
      "image/png": "[encoded data removed]"
     },
     "metadata": {
      "needs_background": "light"
     },
     "output_type": "display_data"
    }
   ],
   "source": [
    "### Point at Which 1D Charge Density is a Minimum\n",
    "import numpy as np\n",
    "import matplotlib.pyplot as plt\n",
    "from excitingtools.exciting_dict_parsers.properties_parser import parse_charge_density\n",
    "\n",
    "x, y = parse_charge_density('RHO1D.xml')\n",
    "index = np.argmin(y)\n",
    "\n",
    "print(f\"Radial position where the charge density is a minimum: {x[index]} bohr\")\n",
    "\n",
    "plt.xlabel(\"Distance (Bohr)\")\n",
    "plt.ylabel(\"Charge Density (AU)\")\n",
    "# Ignore close to the atoms as the density is so large\n",
    "plt.plot(x[2:-2], y[2:-2])\n",
    "plt.show()"
   ],
   "metadata": {
    "collapsed": false,
    "pycharm": {
     "name": "#%%\n"
    }
   }
  },
  {
   "cell_type": "markdown",
   "source": [
    "The bond length between Zn and O is 3.357\n",
    "MT radii of MT_O = 1.50 and MT_Zn = 1.85 lead to a charge density is a minimum at 1.935670591 bohr\n",
    "\n",
    "TODO(Alex) I am not sure how the density minimum corresponds to the MT radii.\n",
    "My assumption is that one wants it as close to the max MT radius as possible, but I am not sure."
   ],
   "metadata": {
    "collapsed": false,
    "pycharm": {
     "name": "#%% md\n"
    }
   }
  },
  {
   "cell_type": "code",
   "execution_count": 11,
   "outputs": [
    {
     "name": "stdout",
     "output_type": "stream",
     "text": [
      "MT of oxygen = 1.5499902834043513\n"
     ]
    }
   ],
   "source": [
    "from src.optimal_muffin_tins import fixed_precision_rgkmax\n",
    "\n",
    "notes = \"\"\"\n",
    "\"Set Zn's MT to 1.90, and use this to pin all others in the system (oxygen), with optimal ratio determined by tabulated rkgmax ratios.\n",
    "\n",
    "mt_y / mt_min = fixed_precision_rgkmax(an_y) / fixed_precision_rgkmax(an_min)\n",
    "    such that\n",
    "mt_min = (fixed_precision_rgkmax(an_min) /  mt_min = fixed_precision_rgkmax(an_y)) * mt_y\n",
    "\"\"\"\n",
    "\n",
    "# Some value < charge minimum\n",
    "mt_zn = 1.90\n",
    "mt_min = (fixed_precision_rgkmax(8) /  fixed_precision_rgkmax(30)) * mt_zn\n",
    "# MT of oxygen = 1.55\n",
    "print(f\"MT of oxygen = {mt_min}\")"
   ],
   "metadata": {
    "collapsed": false,
    "pycharm": {
     "name": "#%%\n"
    }
   }
  },
  {
   "cell_type": "markdown",
   "source": [
    "Note: rgkmax = 7, gmaxvr=21, and k-points = 4,4,4 (I believe)\n",
    "\n",
    "With\n",
    "mt_zn = 1.85 and mt_o = 1.50\n",
    "\n",
    "+ SCF iteration number :   27                                                  +\n",
    "++++++++++++++++++++++++++++++++++++++++++++++++++++++++++++++++++++++++++++++++\n",
    " Total energy                               :     -3757.19984085\n",
    " _______________________________________________________________\n",
    " Fermi energy                               :         0.16565362\n",
    " Kinetic energy                             :      3822.03665017\n",
    " Coulomb energy                             :     -7421.09409898\n",
    " Exchange energy                            :      -154.16620862\n",
    " Correlation energy                         :        -3.97618342\n",
    "\n",
    " DOS at Fermi energy (states/Ha/cell)       :       732.64540018\n",
    "\n",
    " core leakage                           :         0.00470042\n",
    "\n",
    "\n",
    "With\n",
    "mt_zn = 1.90 and mt_o = 1.55\n",
    "Note, exciting reports 3.729971636 as the Zn-O bond length, so clearly the above is viable.\n",
    "\n",
    "Notes\n",
    "* SCF took 29 iterations but the total energy looks slightly better\n",
    "* Change in the muffin tins will cause some change in the linearisation energies, so one will want to perform the search again.\n",
    "* Charge minimum stayed in the same place: 1.935670591 Bohr\n",
    "* Core leakage is lower, but still high => choice of basis functions?\n",
    "\n",
    "++++++++++++++++++++++++++++++++++++++++++++++++++++++++++++++++++++++++++++++++\n",
    "+ SCF iteration number :   29                                                  +\n",
    "++++++++++++++++++++++++++++++++++++++++++++++++++++++++++++++++++++++++++++++++\n",
    " Total energy                               :     -3757.20037083\n",
    " _______________________________________________________________\n",
    " Fermi energy                               :         0.15934491\n",
    " Kinetic energy                             :      3822.03753213\n",
    " Coulomb energy                             :     -7421.09524700\n",
    " Exchange energy                            :      -154.16655743\n",
    " Correlation energy                         :        -3.97609853\n",
    "\n",
    " DOS at Fermi energy (states/Ha/cell)       :       731.09923590\n",
    "\n",
    " Electron charges :\n",
    "     core                                   :        28.00000000\n",
    "     core leakage                           :         0.00354515\n",
    "     valence                                :        48.00000000\n",
    "     interstitial                           :         6.03072946\n",
    "     charge in muffin-tin spheres :\n",
    "                  atom     1    Zn          :        28.10634304\n",
    "                  atom     2    Zn          :        28.10634304\n",
    "                  atom     3     O          :         6.87829223\n",
    "                  atom     4     O          :         6.87829223\n",
    "     total charge in muffin-tins            :        69.96927054\n",
    "     total charge                           :        76.00000000\n",
    "\n",
    "\n",
    "Adding an extra l-channel (l=6) reduces the total energy by ~ 1 meV\n"
   ],
   "metadata": {
    "collapsed": false,
    "pycharm": {
     "name": "#%% md\n"
    }
   }
  },
  {
   "cell_type": "markdown",
   "source": [
    "# Assuming this basis is ok\n",
    "# Input comes:\n",
    "```\n",
    "<?xml version=\"1.0\" encoding=\"utf-8\"?>\n",
    "<input>\n",
    "\n",
    "   <title>ZnO-PBEsol</title>\n",
    "\n",
    "   <structure speciespath=\".\">\n",
    "      <crystal  scale=\"1.8897259886\">\n",
    "         <basevect>-1.624700  -2.814063   0.000000</basevect>\n",
    "         <basevect>-1.624700   2.814063   0.000000</basevect>\n",
    "         <basevect> 0.000000   0.000000  -5.203800</basevect>\n",
    "      </crystal>\n",
    "\n",
    "      <species speciesfile=\"Zn.xml\" rmt=\"1.90\">\n",
    "        <atom coord=\"0.666666667  0.333333333  0.000000000\"></atom>\n",
    "\t<atom coord=\"0.333333333  0.666666667  0.500000000\"></atom>\n",
    "      </species>\n",
    "\n",
    "      <species speciesfile=\"O.xml\" rmt=\"1.55\">\n",
    "\t<atom coord=\"0.666666667  0.333333333  0.617900000\"></atom>\n",
    "        <atom coord=\"0.333333333  0.666666667  0.117900000\"></atom>\n",
    "      </species>\n",
    "   </structure>\n",
    "\n",
    "   <groundstate\n",
    "      do=\"fromscratch\"\n",
    "      rgkmax=\"6.0\"\n",
    "      ngridk=\"8 8 5\"\n",
    "      xctype=\"GGA_PBE_SOL\"\n",
    "      epsengy=\"1.e-6\"\n",
    "      gmaxvr=\"18.0\"\n",
    "      >\n",
    "   </groundstate>\n",
    "\n",
    "</input>\n",
    "```\n"
   ],
   "metadata": {
    "collapsed": false,
    "pycharm": {
     "name": "#%% md\n"
    }
   }
  },
  {
   "cell_type": "code",
   "execution_count": 4,
   "outputs": [
    {
     "data": {
      "text/plain": "<Figure size 432x288 with 1 Axes>",
      "image/png": "[encoded data removed]"
     },
     "metadata": {
      "needs_background": "light"
     },
     "output_type": "display_data"
    },
    {
     "data": {
      "text/plain": "<Figure size 432x288 with 1 Axes>",
      "image/png": "[encoded data removed]"
     },
     "metadata": {
      "needs_background": "light"
     },
     "output_type": "display_data"
    }
   ],
   "source": [
    "# Converge rgkmax\n",
    "import matplotlib.pyplot as plt\n",
    "\n",
    "gmaxvr = [18, 21, 24, 27, 27]\n",
    "rgkmax = [6, 7, 8, 9, 10]\n",
    "\n",
    "total_energy = [-3739.50730056, -3739.53847191, -3739.54360625, -3739.54428096, -3739.54429318]\n",
    "est_fundamental_gap = [0.02527314, 0.02558060, 0.02560734, 0.02560060, 0.02558531]\n",
    "\n",
    "ha_to_ev = 27.2114\n",
    "ha_to_mev = ha_to_ev * 1000.\n",
    "\n",
    "plt.rcParams['axes.formatter.useoffset'] = False\n",
    "plt.xlabel(\"rgkmax (a.u.)\")\n",
    "plt.ylabel(\"Delta Total Energy (meV)\")\n",
    "plt.plot(rgkmax[1:], [ (x-total_energy[1]) * ha_to_mev for x in total_energy[1:]])\n",
    "plt.show()\n",
    "\n",
    "plt.ylabel(\"Delta Est. Fundamental Gap (meV)\")\n",
    "plt.plot(rgkmax, [(x-est_fundamental_gap[0]) * ha_to_mev for x in est_fundamental_gap])\n",
    "plt.show()"
   ],
   "metadata": {
    "collapsed": false,
    "pycharm": {
     "name": "#%%\n"
    }
   }
  },
  {
   "cell_type": "code",
   "execution_count": null,
   "outputs": [],
   "source": [
    "# Effect of LO recommendations on High Energy LOs\n",
    "\n",
    "# For rgkmax = 7 and gmaxvr = 20\n",
    "# Using l=2 onwards search = false with trial energies = 0 (l=2) and 1 Ha (l>2)\n",
    "energy =  -3739.53847199\n",
    "gap =  0.02558062\n",
    "\n",
    "# Using l=2 onwards search = true with trial energies = 0 (l=2) and 1 Ha (l>2)\n",
    "energy = -3739.53847194\n",
    "gap = 0.02558045\n",
    "\n",
    "# Using l=2 onwards trial energies from LO recommendations, search = true\n",
    "# My guess is they have a negligible effect for ground state\n",
    "energy = -3739.53847194\n",
    "gap = 0.02558043\n",
    "\n",
    "message = \"\"\"\n",
    "Effect of the choice of trial energy for energies >= 0 Ha, for a ground state calculation\n",
    "has a negligible effect on the total energy and the est. fundamental gap.\n",
    "\n",
    "The choice of trial energies for LOs with energies < 0 Ha is likely to have an effect on\n",
    "ground state calculations, however I *think* it's fine to fix them for convergence\n",
    "calculations, then recompute the LO recommendations once one has settled on an rgkmax\n",
    "from which to do the GW calculations with.\n",
    "\"\"\"\n",
    "\n",
    "print(message)"
   ],
   "metadata": {
    "collapsed": false,
    "pycharm": {
     "name": "#%%\n"
    }
   }
  },
  {
   "cell_type": "code",
   "execution_count": 1,
   "outputs": [
    {
     "name": "stdout",
     "output_type": "stream",
     "text": [
      "GMKGALHA,LM,KH\n",
      "<bandstructure>\n",
      "    <plot1d>\n",
      "      <path steps=\"100\">\n",
      "        <point coord=\"0.0 0.0 0.0\" label=\"G\" />\n",
      "        <point coord=\"0.5 0.0 0.0\" label=\"M\" />\n",
      "        <point coord=\"0.3333333333333333 0.3333333333333333 0.0\" label=\"K\" />\n",
      "        <point coord=\"0.0 0.0 0.0\" label=\"G\" />\n",
      "        <point coord=\"0.0 0.0 0.5\" label=\"A\" />\n",
      "        <point coord=\"0.5 0.0 0.5\" label=\"L\" />\n",
      "        <point coord=\"0.3333333333333333 0.3333333333333333 0.5\" label=\"H\" />\n",
      "        <point coord=\"0.0 0.0 0.5\" label=\"A\" breakafter=\"true\"/>\n",
      "        <point coord=\"0.5 0.0 0.5\" label=\"L\" />\n",
      "        <point coord=\"0.5 0.0 0.0\" label=\"M\" breakafter=\"true\"/>\n",
      "        <point coord=\"0.3333333333333333 0.3333333333333333 0.0\" label=\"K\" />\n",
      "        <point coord=\"0.3333333333333333 0.3333333333333333 0.5\" label=\"H\" />\n",
      "     </path>\n",
      "   </plot1d>\n",
      "</bandstructure>\n",
      "    \n"
     ]
    }
   ],
   "source": [
    "\"\"\" Band structure\n",
    "LO trial energies for l=0 and 1 fixed at some LO recommendations (from unknown rgkmax)\n",
    "LO trial energies for l=2 set to 0.01 Ha, and l>2 set yo 1.00 Ha (search true)\n",
    "rgkmax=\"8.0\", ngridk=\"8 8 5\", gmaxvr=\"24.0\"\n",
    "\"\"\"\n",
    "\n",
    "# Band structure path\n",
    "from src.parsers import get_standardised_band_path, exciting_band_path_xml\n",
    "from src.materials import ZnOWurzite\n",
    "\n",
    "assert ZnOWurzite.unit == 'angstrom'\n",
    "lattice = ZnOWurzite.lattice\n",
    "\n",
    "symbolic_path, high_symmetry_points = get_standardised_band_path(lattice)\n",
    "band_str = exciting_band_path_xml(symbolic_path, high_symmetry_points)\n",
    "\n",
    "print(symbolic_path)\n",
    "print(band_str)"
   ],
   "metadata": {
    "collapsed": false,
    "pycharm": {
     "name": "#%%\n"
    }
   }
  },
  {
   "cell_type": "code",
   "execution_count": null,
   "outputs": [],
   "source": [],
   "metadata": {
    "collapsed": false,
    "pycharm": {
     "name": "#%%\n"
    }
   }
  }
 ],
 "metadata": {
  "kernelspec": {
   "display_name": "Python 3",
   "language": "python",
   "name": "python3"
  },
  "language_info": {
   "codemirror_mode": {
    "name": "ipython",
    "version": 2
   },
   "file_extension": ".py",
   "mimetype": "text/x-python",
   "name": "python",
   "nbconvert_exporter": "python",
   "pygments_lexer": "ipython2",
   "version": "2.7.6"
  }
 },
 "nbformat": 4,
 "nbformat_minor": 0
}