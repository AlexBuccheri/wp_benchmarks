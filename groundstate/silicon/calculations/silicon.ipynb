{
 "cells": [
  {
   "cell_type": "markdown",
   "source": [],
   "metadata": {
    "collapsed": false
   }
  },
  {
   "cell_type": "markdown",
   "metadata": {
    "collapsed": true,
    "pycharm": {
     "name": "#%% md\n"
    }
   },
   "source": [
    "# Ground State Silicon"
   ],
   "outputs": [],
   "execution_count": 1
  },
  {
   "cell_type": "markdown",
   "source": [
    "### Muffin Tin Radius Determination"
   ],
   "metadata": {
    "collapsed": false
   }
  },
  {
   "cell_type": "code",
   "source": [
    "import os\n",
    "\n",
    "import numpy as np\n",
    "\n",
    "al = 10.2612128567   # In Bohr\n",
    "bond_length = np.sqrt(3) * 0.25 * al\n",
    "\n",
    "# MT radius: Start with 1/2 bond length. Touching spheres corresponds to scaling = 1.0\n",
    "scaling = 0.9\n",
    "radius_mt_max = scaling * 0.5 * bond_length\n",
    "\n",
    "print(bond_length)\n",
    "print(radius_mt_max)"
   ],
   "metadata": {
    "collapsed": false,
    "pycharm": {
     "name": "#%%\n"
    }
   },
   "execution_count": 9,
   "outputs": [
    {
     "name": "stdout",
     "output_type": "stream",
     "text": [
      "4.443235503770845\n",
      "1.9994559766968802\n"
     ]
    }
   ]
  },
  {
   "cell_type": "markdown",
   "source": [
    "### Initial Input and Basis with Reasonable Settings\n",
    "\n",
    "**input.xml**\n",
    "```\n",
    "<?xml version=\"1.0\" encoding=\"utf-8\"?>\n",
    "<input>\n",
    "\n",
    "   <title>silicon-primitive-PBEsol</title>\n",
    "\n",
    "   <structure speciespath=\".\">\n",
    "      <crystal  scale=\"10.2612128567\">\n",
    "         <basevect>0.00000000   0.50000000   0.50000000 </basevect>\n",
    "         <basevect>0.50000000   0.00000000   0.50000000</basevect>\n",
    "         <basevect>0.50000000   0.50000000   0.00000000</basevect>\n",
    "      </crystal>\n",
    "\n",
    "      <species speciesfile=\"Si.xml\" rmt=\"2.00\">\n",
    "        <atom coord=\"0.00 0.00 0.00\"></atom>\n",
    "\t    <atom coord=\"0.25 0.25 0.25\"></atom>\n",
    "      </species>\n",
    "   </structure>\n",
    "\n",
    "   <groundstate\n",
    "      do=\"fromscratch\"\n",
    "      rgkmax=\"6.0\"            # Reasonable\n",
    "      ngridk=\"8 8 8\"          # Converged\n",
    "      xctype=\"GGA_PBE_SOL\"\n",
    "      epsengy=\"1.e-6\"\n",
    "      gmaxvr=\"20.0\"\n",
    "      lorecommendation=\"false\"\n",
    "      >\n",
    "   </groundstate>\n",
    "\n",
    "   <properties>\n",
    "    <chargedensityplot>\n",
    "    <plot1d>\n",
    "    <path steps=\"100\">\n",
    "               <point coord=\"0.00 0.00 0.00\"/>\n",
    "               <point coord=\"0.25 0.25 0.25\"/>\n",
    "    </path>\n",
    "    </plot1d>\n",
    "    </chargedensityplot>\n",
    "   </properties>\n",
    "\n",
    "</input>\n",
    "```\n",
    "\n",
    "**Si.xml**\n",
    "* rtmin starts closer to the nucleus, and the mesh points is dense.\n",
    "\n",
    "```\n",
    "<?xml version=\"1.0\" encoding=\"UTF-8\"?>\n",
    "<spdb xsi:noNamespaceSchemaLocation=\"../../xml/species.xsd\" xmlns:xsi=\"http://www.w3.org/2001/XMLSchema-instance\">\n",
    "  <sp chemicalSymbol=\"Si\" name=\"silicon\" z=\"-14.0000\" mass=\"51196.73454\">\n",
    "    <muffinTin rmin=\"0.100000E-05\" radius=\"2.0000\" rinf=\"24.9760\" radialmeshPoints=\"600\"/>\n",
    "    <atomicState n=\"1\" l=\"0\" kappa=\"1\" occ=\"2.00000\" core=\"true\"/>\n",
    "    <atomicState n=\"2\" l=\"0\" kappa=\"1\" occ=\"2.00000\" core=\"true\"/>\n",
    "    <atomicState n=\"2\" l=\"1\" kappa=\"1\" occ=\"2.00000\" core=\"true\"/>\n",
    "    <atomicState n=\"2\" l=\"1\" kappa=\"2\" occ=\"4.00000\" core=\"true\"/>\n",
    "    <atomicState n=\"3\" l=\"0\" kappa=\"1\" occ=\"2.00000\" core=\"false\"/>\n",
    "    <atomicState n=\"3\" l=\"1\" kappa=\"1\" occ=\"1.00000\" core=\"false\"/>\n",
    "    <atomicState n=\"3\" l=\"1\" kappa=\"2\" occ=\"1.00000\" core=\"false\"/>\n",
    "    <basis>\n",
    "      <default type=\"lapw\" trialEnergy=\"0.1500\" searchE=\"false\"/>\n",
    "      <custom l=\"0\" type=\"apw+lo\" trialEnergy=\"0.1500\" searchE=\"true\"/>\n",
    "      <custom l=\"1\" type=\"apw+lo\" trialEnergy=\"0.1500\" searchE=\"true\"/>\n",
    "    </basis>\n",
    "  </sp>\n",
    "</spdb>\n",
    "```\n"
   ],
   "metadata": {
    "collapsed": false,
    "pycharm": {
     "name": "#%% md\n"
    }
   }
  },
  {
   "cell_type": "code",
   "source": [
    "### Point at Which 1D Charge Density is a Minimum\n",
    "\n",
    "import matplotlib.pyplot as plt\n",
    "from src.parsers import extract_charge_density\n",
    "\n",
    "x, y = extract_charge_density('silicon/RHO1D.xml')\n",
    "index = np.argmin(y)\n",
    "\n",
    "print(f\"Radial position where the charge density is a minimum: {x[index]} bohr\")\n",
    "\n",
    "plt.xlabel(\"Distance (Bohr)\")\n",
    "plt.ylabel(\"Charge Density (AU)\")\n",
    "# Ignore close to the atoms as the density is so large\n",
    "plt.plot(x[2:-2], y[2:-2])\n",
    "plt.show()"
   ],
   "metadata": {
    "collapsed": false,
    "pycharm": {
     "name": "#%%\n"
    }
   },
   "execution_count": 11,
   "outputs": [
    {
     "name": "stdout",
     "output_type": "stream",
     "text": [
      "/Users/alexanderbuccheri/Python/pycharm_projects/wp_benchmarks/groundstate\n",
      "Radial position where the charge density is a minimum: 2.199177169 bohr\n"
     ]
    },
    {
     "data": {
      "text/plain": "<Figure size 432x288 with 1 Axes>",
      "image/png": "[encoded data removed]"
     },
     "metadata": {
      "needs_background": "light"
     },
     "output_type": "display_data"
    }
   ]
  },
  {
   "cell_type": "markdown",
   "source": [
    "Radial position where the charge density is a minimum: 2.199 bohr\n",
    "This suggests that my initial guess of 1.99 Bohr can be increased to 2.199 Bohr, which is close to nearly-touching spheres (0.5 * bond length = 2.22 Bohr)."
   ],
   "metadata": {
    "collapsed": false
   }
  },
  {
   "cell_type": "markdown",
   "source": [
    "### Get an Optimal Default (ground state) Basis\n",
    "\n",
    "* Use the optimal MT radius of 2.199 Bohr\n",
    "* rgkmax is reasonable\n",
    "* Added a bunch of lapws to the basis, allow them to search, and extract optimal energies from LINENGY.OUT\n",
    "\n",
    "**input.xml**\n",
    "```\n",
    "<?xml version=\"1.0\" encoding=\"utf-8\"?>\n",
    "<input>\n",
    "\n",
    "   <title>silicon-primitive-PBEsol</title>\n",
    "\n",
    "   <structure speciespath=\".\">\n",
    "      <crystal  scale=\"10.2612128567\">\n",
    "         <basevect>0.00000000   0.50000000   0.50000000 </basevect>\n",
    "         <basevect>0.50000000   0.00000000   0.50000000</basevect>\n",
    "         <basevect>0.50000000   0.50000000   0.00000000</basevect>\n",
    "      </crystal>\n",
    "\n",
    "      <species speciesfile=\"Si.xml\" rmt=\"2.199\">\n",
    "        <atom coord=\"0.00 0.00 0.00\"></atom>\n",
    "\t    <atom coord=\"0.25 0.25 0.25\"></atom>\n",
    "      </species>\n",
    "   </structure>\n",
    "\n",
    "   <groundstate\n",
    "      do=\"fromscratch\"\n",
    "      rgkmax=\"6.0\"\n",
    "      ngridk=\"8 8 8\"\n",
    "      xctype=\"GGA_PBE_SOL\"\n",
    "      epsengy=\"1.e-6\"\n",
    "      gmaxvr=\"20.0\"\n",
    "      lorecommendation=\"false\"\n",
    "      >\n",
    "   </groundstate>\n",
    "\n",
    "   <properties>\n",
    "    <chargedensityplot>\n",
    "    <plot1d>\n",
    "    <path steps=\"100\">\n",
    "               <point coord=\"0.00 0.00 0.00\"/>\n",
    "               <point coord=\"0.25 0.25 0.25\"/>\n",
    "    </path>\n",
    "    </plot1d>\n",
    "    </chargedensityplot>\n",
    "   </properties>\n",
    "\n",
    "</input>\n",
    "```\n",
    "\n",
    "**Si.xml**\n",
    "THE INITIAL BASIS I USED\n",
    "\n",
    "```\n",
    "<?xml version=\"1.0\" encoding=\"UTF-8\"?>\n",
    "<spdb xsi:noNamespaceSchemaLocation=\"../../xml/species.xsd\" xmlns:xsi=\"http://www.w3.org/2001/XMLSchema-instance\">\n",
    "  <sp chemicalSymbol=\"Si\" name=\"silicon\" z=\"-14.0000\" mass=\"51196.73454\">\n",
    "    <muffinTin rmin=\"0.100000E-05\" radius=\"2.0000\" rinf=\"24.9760\" radialmeshPoints=\"600\"/>\n",
    "    <atomicState n=\"1\" l=\"0\" kappa=\"1\" occ=\"2.00000\" core=\"true\"/>\n",
    "    <atomicState n=\"2\" l=\"0\" kappa=\"1\" occ=\"2.00000\" core=\"true\"/>\n",
    "    <atomicState n=\"2\" l=\"1\" kappa=\"1\" occ=\"2.00000\" core=\"true\"/>\n",
    "    <atomicState n=\"2\" l=\"1\" kappa=\"2\" occ=\"4.00000\" core=\"true\"/>\n",
    "    <atomicState n=\"3\" l=\"0\" kappa=\"1\" occ=\"2.00000\" core=\"false\"/>\n",
    "    <atomicState n=\"3\" l=\"1\" kappa=\"1\" occ=\"1.00000\" core=\"false\"/>\n",
    "    <atomicState n=\"3\" l=\"1\" kappa=\"2\" occ=\"1.00000\" core=\"false\"/>\n",
    "  <basis>\n",
    "      <default type=\"lapw\" trialEnergy=\"0.1500\" searchE=\"false\"/>\n",
    "\n",
    "      <custom l=\"0\" type=\"lapw\" trialEnergy=\"0.1500\" searchE=\"true\"/>\n",
    "      <lo l=\"0\">\n",
    "        <wf matchingOrder=\"0\" trialEnergy=\"-0.5\" searchE=\"true\"/>\n",
    "        <wf matchingOrder=\"1\" trialEnergy=\"-0.5\" searchE=\"true\"/>\n",
    "      </lo>\n",
    "      <lo l=\"0\">\n",
    "        <wf matchingOrder=\"1\" trialEnergy=\"-0.5\" searchE=\"true\"/>\n",
    "        <wf matchingOrder=\"2\" trialEnergy=\"-0.5\" searchE=\"true\"/>\n",
    "      </lo>\n",
    "\n",
    "      <custom l=\"1\" type=\"lapw\" trialEnergy=\"0.1\" searchE=\"true\"/>\n",
    "      <lo l=\"1\">\n",
    "        <wf matchingOrder=\"0\" trialEnergy=\"0.1\" searchE=\"true\"/>\n",
    "        <wf matchingOrder=\"1\" trialEnergy=\"0.1\" searchE=\"true\"/>\n",
    "      </lo>\n",
    "      <lo l=\"1\">\n",
    "        <wf matchingOrder=\"1\" trialEnergy=\"0.1\" searchE=\"true\"/>\n",
    "        <wf matchingOrder=\"2\" trialEnergy=\"0.1\" searchE=\"true\"/>\n",
    "      </lo>\n",
    "\n",
    "      <custom l=\"2\" type=\"lapw\" trialEnergy=\"1.0\" searchE=\"true\"/>\n",
    "      <lo l=\"2\">\n",
    "        <wf matchingOrder=\"0\" trialEnergy=\"1.0\" searchE=\"true\"/>\n",
    "        <wf matchingOrder=\"1\" trialEnergy=\"1.0\" searchE=\"true\"/>\n",
    "      </lo>\n",
    "\n",
    "      <lo l=\"2\">\n",
    "        <wf matchingOrder=\"1\" trialEnergy=\"1.0\" searchE=\"true\"/>\n",
    "        <wf matchingOrder=\"2\" trialEnergy=\"1.0\" searchE=\"true\"/>\n",
    "      </lo>\n",
    "\n",
    "      <custom l=\"3\" type=\"lapw\" trialEnergy=\"1.0\" searchE=\"true\"/>\n",
    "      <lo l=\"3\">\n",
    "        <wf matchingOrder=\"0\" trialEnergy=\"1.0\" searchE=\"true\"/>\n",
    "        <wf matchingOrder=\"1\" trialEnergy=\"1.0\" searchE=\"true\"/>\n",
    "      </lo>\n",
    "\n",
    "      <lo l=\"3\">\n",
    "        <wf matchingOrder=\"1\" trialEnergy=\"1.0\" searchE=\"true\"/>\n",
    "        <wf matchingOrder=\"2\" trialEnergy=\"1.0\" searchE=\"true\"/>\n",
    "      </lo>\n",
    "\n",
    "      <custom l=\"4\" type=\"lapw\" trialEnergy=\"1.0\" searchE=\"true\"/>\n",
    "      <lo l=\"4\">\n",
    "        <wf matchingOrder=\"0\" trialEnergy=\"1.0\" searchE=\"true\"/>\n",
    "        <wf matchingOrder=\"1\" trialEnergy=\"1.0\" searchE=\"true\"/>\n",
    "      </lo>\n",
    "\n",
    "      <lo l=\"4\">\n",
    "        <wf matchingOrder=\"1\" trialEnergy=\"1.0\" searchE=\"true\"/>\n",
    "        <wf matchingOrder=\"2\" trialEnergy=\"1.0\" searchE=\"true\"/>\n",
    "      </lo>\n",
    "\n",
    "      <custom l=\"5\" type=\"lapw\" trialEnergy=\"1.0\" searchE=\"true\"/>\n",
    "      <lo l=\"5\">\n",
    "        <wf matchingOrder=\"0\" trialEnergy=\"1.0\" searchE=\"true\"/>\n",
    "        <wf matchingOrder=\"1\" trialEnergy=\"1.0\" searchE=\"true\"/>\n",
    "      </lo>\n",
    "\n",
    "      <lo l=\"5\">\n",
    "        <wf matchingOrder=\"1\" trialEnergy=\"1.0\" searchE=\"true\"/>\n",
    "        <wf matchingOrder=\"2\" trialEnergy=\"1.0\" searchE=\"true\"/>\n",
    "      </lo>\n",
    "\n",
    "  </basis>\n",
    "  </sp>\n",
    "</spdb>\n",
    "```\n",
    "\n",
    "* THIS IS THE OPTIMAL BASIS I Defined according to LINENERGY VALUES\n",
    "\n",
    "```\n",
    "<?xml version=\"1.0\" encoding=\"UTF-8\"?>\n",
    "<spdb xsi:noNamespaceSchemaLocation=\"../../xml/species.xsd\" xmlns:xsi=\"http://www.w3.org/2001/XMLSchema-instance\">\n",
    "  <sp chemicalSymbol=\"Si\" name=\"silicon\" z=\"-14.0000\" mass=\"51196.73454\">\n",
    "    <muffinTin rmin=\"0.100000E-05\" radius=\"2.0000\" rinf=\"24.9760\" radialmeshPoints=\"600\"/>\n",
    "    <atomicState n=\"1\" l=\"0\" kappa=\"1\" occ=\"2.00000\" core=\"true\"/>\n",
    "    <atomicState n=\"2\" l=\"0\" kappa=\"1\" occ=\"2.00000\" core=\"true\"/>\n",
    "    <atomicState n=\"2\" l=\"1\" kappa=\"1\" occ=\"2.00000\" core=\"true\"/>\n",
    "    <atomicState n=\"2\" l=\"1\" kappa=\"2\" occ=\"4.00000\" core=\"true\"/>\n",
    "    <atomicState n=\"3\" l=\"0\" kappa=\"1\" occ=\"2.00000\" core=\"false\"/>\n",
    "    <atomicState n=\"3\" l=\"1\" kappa=\"1\" occ=\"1.00000\" core=\"false\"/>\n",
    "    <atomicState n=\"3\" l=\"1\" kappa=\"2\" occ=\"1.00000\" core=\"false\"/>\n",
    "  <basis>\n",
    "      <default type=\"lapw\" trialEnergy=\"0.1500\" searchE=\"false\"/>\n",
    "\n",
    "      <custom l=\"0\" type=\"lapw\" trialEnergy=\"0.1500\" searchE=\"true\"/>\n",
    "      <lo l=\"0\">\n",
    "        <wf matchingOrder=\"0\" trialEnergy=\"-0.1850000000\" searchE=\"false\"/>\n",
    "        <wf matchingOrder=\"1\" trialEnergy=\"-0.1850000000\" searchE=\"false\"/>\n",
    "      </lo>\n",
    "      <lo l=\"0\">\n",
    "        <wf matchingOrder=\"1\" trialEnergy=\"-0.1850000000\" searchE=\"false\"/>\n",
    "        <wf matchingOrder=\"2\" trialEnergy=\"-0.1850000000\" searchE=\"false\"/>\n",
    "      </lo>\n",
    "\n",
    "      <custom l=\"1\" type=\"lapw\" trialEnergy=\"0.1\" searchE=\"true\"/>\n",
    "      <lo l=\"1\">\n",
    "        <wf matchingOrder=\"0\" trialEnergy=\"0.1975000000\" searchE=\"false\"/>\n",
    "        <wf matchingOrder=\"1\" trialEnergy=\"0.1975000000\" searchE=\"false\"/>\n",
    "      </lo>\n",
    "      <lo l=\"1\">\n",
    "        <wf matchingOrder=\"1\" trialEnergy=\"0.1975000000\" searchE=\"false\"/>\n",
    "        <wf matchingOrder=\"2\" trialEnergy=\"0.1975000000\" searchE=\"false\"/>\n",
    "      </lo>\n",
    "\n",
    "      <custom l=\"2\" type=\"lapw\" trialEnergy=\"1.0\" searchE=\"true\"/>\n",
    "      <lo l=\"2\">\n",
    "        <wf matchingOrder=\"0\" trialEnergy=\"1.0\" searchE=\"false\"/>\n",
    "        <wf matchingOrder=\"1\" trialEnergy=\"1.0\" searchE=\"false\"/>\n",
    "      </lo>\n",
    "\n",
    "      <lo l=\"2\">\n",
    "        <wf matchingOrder=\"1\" trialEnergy=\"1.0\" searchE=\"false\"/>\n",
    "        <wf matchingOrder=\"2\" trialEnergy=\"1.0\" searchE=\"false\"/>\n",
    "      </lo>\n",
    "\n",
    "      <custom l=\"3\" type=\"lapw\" trialEnergy=\"1.0\" searchE=\"true\"/>\n",
    "      <lo l=\"3\">\n",
    "        <wf matchingOrder=\"0\" trialEnergy=\"1.0\" searchE=\"false\"/>\n",
    "        <wf matchingOrder=\"1\" trialEnergy=\"1.0\" searchE=\"false\"/>\n",
    "      </lo>\n",
    "\n",
    "      <lo l=\"3\">\n",
    "        <wf matchingOrder=\"1\" trialEnergy=\"1.0\" searchE=\"false\"/>\n",
    "        <wf matchingOrder=\"2\" trialEnergy=\"1.0\" searchE=\"false\"/>\n",
    "      </lo>\n",
    "\n",
    "      <custom l=\"4\" type=\"lapw\" trialEnergy=\"1.0\" searchE=\"true\"/>\n",
    "      <lo l=\"4\">\n",
    "        <wf matchingOrder=\"0\" trialEnergy=\"1.0\" searchE=\"false\"/>\n",
    "        <wf matchingOrder=\"1\" trialEnergy=\"1.0\" searchE=\"false\"/>\n",
    "      </lo>\n",
    "\n",
    "      <lo l=\"4\">\n",
    "        <wf matchingOrder=\"1\" trialEnergy=\"1.0\" searchE=\"false\"/>\n",
    "        <wf matchingOrder=\"2\" trialEnergy=\"1.0\" searchE=\"false\"/>\n",
    "      </lo>\n",
    "\n",
    "      <custom l=\"5\" type=\"lapw\" trialEnergy=\"1.0\" searchE=\"true\"/>\n",
    "      <lo l=\"5\">\n",
    "        <wf matchingOrder=\"0\" trialEnergy=\"1.0\" searchE=\"false\"/>\n",
    "        <wf matchingOrder=\"1\" trialEnergy=\"1.0\" searchE=\"false\"/>\n",
    "      </lo>\n",
    "\n",
    "      <lo l=\"5\">\n",
    "        <wf matchingOrder=\"1\" trialEnergy=\"1.0\" searchE=\"false\"/>\n",
    "        <wf matchingOrder=\"2\" trialEnergy=\"1.0\" searchE=\"false\"/>\n",
    "      </lo>\n",
    "\n",
    "    </basis>\n",
    "  </sp>\n",
    "</spdb>\n",
    "```"
   ],
   "metadata": {
    "collapsed": false
   }
  },
  {
   "cell_type": "code",
   "source": [
    "# NOTE! I used converged inputs to do this. FLAG THIS UPPPP\n",
    "\n",
    "input =\"\"\"\n",
    "   <groundstate\n",
    "      do=\"fromscratch\"\n",
    "      rgkmax=\"10.0\"\n",
    "      ngridk=\"8 8 8\"\n",
    "      xctype=\"GGA_PBE_SOL\"\n",
    "      epsengy=\"1.e-6\"\n",
    "      gmaxvr=\"30.0\"\n",
    "      lorecommendation=\"false\"\n",
    "      >\n",
    "   </groundstate>\n",
    "\n",
    "\"\"\"\n",
    "\n",
    "import matplotlib.pyplot as plt\n",
    "import numpy as np\n",
    "# Check convergence as I add each LO to the LAPW channels for a) the GAP and b) the total energy.\n",
    "# Remove the LAPWs as well.\n",
    "ha_to_ev = 27.2114\n",
    "\n",
    "plt.rcParams['axes.formatter.useoffset'] = False\n",
    "\n",
    "#  Max LO (and APW)\n",
    "labels = ['l=0(0,1)', 'l=0(1,2)', 'l=1(0,1)', 'l=1(1,2)', 'l=2(0,1)', 'l=2(1,2)', 'l=3(0,1)', 'l=3(1,2)', 'l=4(0,1)', 'l=4(1,2)']\n",
    "est_fundamental_gap = [0.01878736, 0.01875130, 0.01875596, 0.01875116, 0.01901496, 0.01875084, 0.01875122, 0.01875082, 0.01875135, 0.01875175]\n",
    "total_energy = [-579.02026038, -579.02044677, -579.02043863, -579.02045937, -579.01895492, -579.02047999, -579.02047729, -579.02048432, -579.02048446, -579.02048482]\n",
    "indices = np.arange(0, len(total_energy))\n",
    "plt.ylim(-15755.96, -15755.95)\n",
    "plt.plot(indices, [x * ha_to_ev for x in total_energy])\n",
    "plt.show()\n",
    "plt.ylim(0.510, 0.512)\n",
    "plt.plot(indices, [x * ha_to_ev for x in est_fundamental_gap])\n",
    "plt.show()"
   ],
   "metadata": {
    "collapsed": false,
    "pycharm": {
     "name": "#%%\n"
    }
   },
   "execution_count": 9,
   "outputs": [
    {
     "data": {
      "text/plain": "<Figure size 432x288 with 1 Axes>",
      "image/png": "[encoded data removed]"
     },
     "metadata": {
      "needs_background": "light"
     },
     "output_type": "display_data"
    },
    {
     "data": {
      "text/plain": "<Figure size 432x288 with 1 Axes>",
      "image/png": "[encoded data removed]"
     },
     "metadata": {
      "needs_background": "light"
     },
     "output_type": "display_data"
    }
   ]
  },
  {
   "cell_type": "markdown",
   "source": [
    "## Optimal Basis W.r.t. LAPW+LOs\n",
    "\n",
    "Ignoring that weird spike when I add the:\n",
    "\n",
    "```\n",
    "      <custom l=\"2\" type=\"lapw\" trialEnergy=\"1.0\" searchE=\"true\"/>\n",
    "      <lo l=\"2\">\n",
    "        <wf matchingOrder=\"0\" trialEnergy=\"1.0\" searchE=\"false\"/>\n",
    "        <wf matchingOrder=\"1\" trialEnergy=\"1.0\" searchE=\"false\"/>\n",
    "      </lo>\n",
    "```\n",
    "\n",
    "\n",
    "\n",
    "```\n",
    "<?xml version=\"1.0\" encoding=\"UTF-8\"?>\n",
    "<spdb xsi:noNamespaceSchemaLocation=\"../../xml/species.xsd\" xmlns:xsi=\"http://www.w3.org/2001/XMLSchema-instance\">\n",
    "  <sp chemicalSymbol=\"Si\" name=\"silicon\" z=\"-14.0000\" mass=\"51196.73454\">\n",
    "    <muffinTin rmin=\"0.100000E-05\" radius=\"2.0000\" rinf=\"24.9760\" radialmeshPoints=\"600\"/>\n",
    "    <atomicState n=\"1\" l=\"0\" kappa=\"1\" occ=\"2.00000\" core=\"true\"/>\n",
    "    <atomicState n=\"2\" l=\"0\" kappa=\"1\" occ=\"2.00000\" core=\"true\"/>\n",
    "    <atomicState n=\"2\" l=\"1\" kappa=\"1\" occ=\"2.00000\" core=\"true\"/>\n",
    "    <atomicState n=\"2\" l=\"1\" kappa=\"2\" occ=\"4.00000\" core=\"true\"/>\n",
    "    <atomicState n=\"3\" l=\"0\" kappa=\"1\" occ=\"2.00000\" core=\"false\"/>\n",
    "    <atomicState n=\"3\" l=\"1\" kappa=\"1\" occ=\"1.00000\" core=\"false\"/>\n",
    "    <atomicState n=\"3\" l=\"1\" kappa=\"2\" occ=\"1.00000\" core=\"false\"/>\n",
    "  <basis>\n",
    "      <default type=\"lapw\" trialEnergy=\"0.1500\" searchE=\"false\"/>\n",
    "\n",
    "      <custom l=\"0\" type=\"lapw\" trialEnergy=\"0.1500\" searchE=\"true\"/>\n",
    "      <lo l=\"0\">\n",
    "        <wf matchingOrder=\"0\" trialEnergy=\"-0.1850000000\" searchE=\"false\"/>\n",
    "        <wf matchingOrder=\"1\" trialEnergy=\"-0.1850000000\" searchE=\"false\"/>\n",
    "      </lo>\n",
    "      <lo l=\"0\">\n",
    "        <wf matchingOrder=\"1\" trialEnergy=\"-0.1850000000\" searchE=\"false\"/>\n",
    "        <wf matchingOrder=\"2\" trialEnergy=\"-0.1850000000\" searchE=\"false\"/>\n",
    "      </lo>\n",
    "\n",
    "      <custom l=\"1\" type=\"lapw\" trialEnergy=\"0.1\" searchE=\"true\"/>\n",
    "      <lo l=\"1\">\n",
    "        <wf matchingOrder=\"0\" trialEnergy=\"0.1975000000\" searchE=\"false\"/>\n",
    "        <wf matchingOrder=\"1\" trialEnergy=\"0.1975000000\" searchE=\"false\"/>\n",
    "      </lo>\n",
    "      <lo l=\"1\">\n",
    "        <wf matchingOrder=\"1\" trialEnergy=\"0.1975000000\" searchE=\"false\"/>\n",
    "        <wf matchingOrder=\"2\" trialEnergy=\"0.1975000000\" searchE=\"false\"/>\n",
    "      </lo>\n",
    "\n",
    "      <custom l=\"2\" type=\"lapw\" trialEnergy=\"1.0\" searchE=\"true\"/>\n",
    "      <lo l=\"2\">\n",
    "        <wf matchingOrder=\"0\" trialEnergy=\"1.0\" searchE=\"false\"/>\n",
    "        <wf matchingOrder=\"1\" trialEnergy=\"1.0\" searchE=\"false\"/>\n",
    "      </lo>\n",
    "\n",
    "      <lo l=\"2\">\n",
    "        <wf matchingOrder=\"1\" trialEnergy=\"1.0\" searchE=\"false\"/>\n",
    "        <wf matchingOrder=\"2\" trialEnergy=\"1.0\" searchE=\"false\"/>\n",
    "      </lo>\n",
    "\n",
    "      <custom l=\"3\" type=\"lapw\" trialEnergy=\"1.0\" searchE=\"true\"/>\n",
    "      <lo l=\"3\">\n",
    "        <wf matchingOrder=\"0\" trialEnergy=\"1.0\" searchE=\"false\"/>\n",
    "        <wf matchingOrder=\"1\" trialEnergy=\"1.0\" searchE=\"false\"/>\n",
    "      </lo>\n",
    "\n",
    "      <lo l=\"3\">\n",
    "        <wf matchingOrder=\"1\" trialEnergy=\"1.0\" searchE=\"false\"/>\n",
    "        <wf matchingOrder=\"2\" trialEnergy=\"1.0\" searchE=\"false\"/>\n",
    "      </lo>\n",
    "\n",
    "    </basis>\n",
    "  </sp>\n",
    "</spdb>\n",
    "```"
   ],
   "metadata": {
    "collapsed": false,
    "pycharm": {
     "name": "#%% md\n"
    }
   }
  },
  {
   "cell_type": "code",
   "source": [
    "import matplotlib.pyplot as plt\n",
    "# Converge total energy and the gap w.r.t. rgkmax\n",
    "ha_to_ev = 27.2114\n",
    "\n",
    "gmaxvr = [30., 30., 30., 30., 30.]\n",
    "rgkmax = [6, 7, 8, 9, 10]\n",
    "est_fundamental_gap = [0.01876166, 0.01876066, 0.01875262, 0.01875083, 0.01875175]\n",
    "total_energy = [-579.01964075, -579.02038853, -579.02046855, -579.02048184, -579.02048482]\n",
    "\n",
    "plt.xlabel(\"rgkmax\")\n",
    "plt.ylabel(\"Total Energy (eV)\")\n",
    "plt.plot(rgkmax, [x * ha_to_ev for x in total_energy])\n",
    "plt.show()\n",
    "\n",
    "plt.ylabel(\"Fundamental Gap (eV)\")\n",
    "plt.plot(rgkmax, [x * ha_to_ev for x in est_fundamental_gap])\n",
    "plt.show()\n",
    "\n",
    "details = \"\"\"\n",
    "0.44 eV difference in the total energy between rgkmax = 8 and 10.\n",
    "Less than 0.05 meV difference in the fundamental gap between rgkmax = 8 and 10.\n",
    "\"\"\"\n",
    "print(details)\n",
    "\n",
    "# Reduce gmaxvr from 30 to 24 for rgkmax = 8 gives -579.02046855 and 0.01875262\n",
    "# Number is identical, so stick with 24"
   ],
   "metadata": {
    "collapsed": false,
    "pycharm": {
     "name": "#%%\n"
    }
   },
   "execution_count": 12,
   "outputs": [
    {
     "data": {
      "text/plain": "<Figure size 432x288 with 1 Axes>",
      "image/png": "[encoded data removed]"
     },
     "metadata": {
      "needs_background": "light"
     },
     "output_type": "display_data"
    },
    {
     "data": {
      "text/plain": "<Figure size 432x288 with 1 Axes>",
      "image/png": "[encoded data removed]"
     },
     "metadata": {
      "needs_background": "light"
     },
     "output_type": "display_data"
    }
   ]
  },
  {
   "cell_type": "markdown",
   "source": [],
   "metadata": {
    "collapsed": false
   }
  },
  {
   "cell_type": "markdown",
   "source": [
    "# Final Input\n",
    "\n",
    "```xml\n",
    "<?xml version=\"1.0\" encoding=\"utf-8\"?>\n",
    "<input>\n",
    "\n",
    "   <title>silicon-primitive-PBEsol</title>\n",
    "\n",
    "   <structure speciespath=\".\">\n",
    "      <crystal  scale=\"10.2612128567\">\n",
    "         <basevect>0.00000000   0.50000000   0.50000000 </basevect>\n",
    "         <basevect>0.50000000   0.00000000   0.50000000</basevect>\n",
    "         <basevect>0.50000000   0.50000000   0.00000000</basevect>\n",
    "      </crystal>\n",
    "\n",
    "      <species speciesfile=\"Si.xml\" rmt=\"2.199\">\n",
    "        <atom coord=\"0.00 0.00 0.00\"/>\n",
    "\t    <atom coord=\"0.25 0.25 0.25\"/>\n",
    "      </species>\n",
    "   </structure>\n",
    "\n",
    "   <groundstate\n",
    "      do=\"fromscratch\"\n",
    "      rgkmax=\"8.0\"\n",
    "      ngridk=\"8 8 8\"\n",
    "      xctype=\"GGA_PBE_SOL\"\n",
    "      epsengy=\"1.e-6\"\n",
    "      gmaxvr=\"24.0\"\n",
    "      lorecommendation=\"false\"\n",
    "      >\n",
    "   </groundstate>\n",
    "\n",
    "</input>\n",
    "```"
   ],
   "metadata": {
    "collapsed": false,
    "pycharm": {
     "name": "#%% md\n"
    }
   }
  },
  {
   "cell_type": "markdown",
   "source": [
    "# Band structure File Generation"
   ],
   "metadata": {
    "collapsed": false
   }
  },
  {
   "cell_type": "code",
   "execution_count": 1,
   "outputs": [
    {
     "name": "stdout",
     "output_type": "stream",
     "text": [
      "GXWKGLUWLK,UX\n",
      "<bandstructure>\n",
      "    <plot1d>\n",
      "      <path steps=\"100\">\n",
      "        <point coord=\"0.0 0.0 0.0\" label=\"G\" />\n",
      "        <point coord=\"0.5 0.0 0.5\" label=\"X\" />\n",
      "        <point coord=\"0.5 0.25 0.75\" label=\"W\" />\n",
      "        <point coord=\"0.375 0.375 0.75\" label=\"K\" />\n",
      "        <point coord=\"0.0 0.0 0.0\" label=\"G\" />\n",
      "        <point coord=\"0.5 0.5 0.5\" label=\"L\" />\n",
      "        <point coord=\"0.625 0.25 0.625\" label=\"U\" />\n",
      "        <point coord=\"0.5 0.25 0.75\" label=\"W\" />\n",
      "        <point coord=\"0.5 0.5 0.5\" label=\"L\" />\n",
      "        <point coord=\"0.375 0.375 0.75\" label=\"K\" breakafter=\"true\"/>\n",
      "        <point coord=\"0.625 0.25 0.625\" label=\"U\" />\n",
      "        <point coord=\"0.5 0.0 0.5\" label=\"X\" />\n",
      "     </path>\n",
      "   </plot1d>\n",
      "</bandstructure>\n",
      "    \n"
     ]
    }
   ],
   "source": [
    "\"\"\"\n",
    "Use ASE to get the High symmetry points and drop them into exciting band path format.\n",
    "\"\"\"\n",
    "import numpy as np\n",
    "\n",
    "from src.parsers import get_standardised_band_path, exciting_band_path_xml\n",
    "\n",
    "al_angstrom = 5.43\n",
    "lattice = al_angstrom * np.array([[0.0, 0.5, 0.5],\n",
    "                                  [0.5, 0.0, 0.5],\n",
    "                                  [0.5, 0.5, 0.0]])\n",
    "\n",
    "symbolic_path, high_symmetry_points = get_standardised_band_path(lattice)\n",
    "print(symbolic_path)\n",
    "\n",
    "band_string = exciting_band_path_xml(symbolic_path, high_symmetry_points)\n",
    "print(band_string)\n",
    "\n",
    "# lat = HEX(a=2.512, c=7.707)\n",
    "# cell = lat.tocell()\n",
    "# path = cell.bandpath(npoints=100)\n",
    "# path.plot()\n",
    "# bs = path.free_electron_band_structure()\n",
    "# bs.plot(show=True)"
   ],
   "metadata": {
    "collapsed": false,
    "pycharm": {
     "name": "#%%\n"
    }
   }
  },
  {
   "cell_type": "markdown",
   "source": [
    "## Semi-Core States\n",
    "\n",
    "From inspection of the atoms.xml file, it is clear that several core states are actually semi-core states and should be moved from core to valence:\n",
    "\n",
    "```xml\n",
    "<atomlist>\n",
    "  <Hamiltonian RelativityModel=\"dirac\" xctype=\"3\"/>\n",
    "  <atom chemicalSymbol=\"Si\" species=\"Si.xml\">\n",
    "    <NumericalSetup TotalNumberOfGridPoints=\"1348\" NumberOfMTGridPoints=\"600\" GridType=\"cubic\" rmin=\"1.000000000000e-6\" rmt=\"2.199000000000e0\"\n",
    " rmax=\"2.500071633454e1\"/>\n",
    "    <spectrum>\n",
    "      <state n=\"1\" l=\"0\" kappa=\"1\" energy=\"-65.3520529657\"/>\n",
    "      <state n=\"2\" l=\"0\" kappa=\"1\" energy=\"-5.09800665436\"/>\n",
    "      <state n=\"2\" l=\"1\" kappa=\"1\" energy=\"-3.52865053270\"/>\n",
    "      <state n=\"2\" l=\"1\" kappa=\"2\" energy=\"-3.50489107766\"/>\n",
    "      <state n=\"3\" l=\"0\" kappa=\"1\" energy=\"-0.399635499623\"/>\n",
    "      <state n=\"3\" l=\"1\" kappa=\"1\" energy=\"-0.153659802575\"/>\n",
    "      <state n=\"3\" l=\"1\" kappa=\"2\" energy=\"-0.152458823237\"/>\n",
    "    </spectrum>\n",
    "  </atom>\n",
    "</atomlist>\n",
    "```\n",
    "\n",
    "As such, one moves these states to the valence:\n",
    "\n",
    "```xml\n",
    "    <atomicState n=\"2\" l=\"0\" kappa=\"1\" occ=\"2.00000\" core=\"false\"/>\n",
    "    <atomicState n=\"2\" l=\"1\" kappa=\"1\" occ=\"2.00000\" core=\"false\"/>\n",
    "    <atomicState n=\"2\" l=\"1\" kappa=\"2\" occ=\"4.00000\" core=\"false\"/>\n",
    "```\n",
    "\n",
    "This introduces 2s and 3s into the valence, and the 2p and 3p into the valence.\n",
    "One needs to account for an l-channel with radial functions corresponding to different PQNs, according to the scheme described in `basis_selection.ipynb`.\n",
    "\n",
    "**TODO(Alex). Discuss this with Andris to see mathetmatically why this is.**\n",
    "\n",
    "The trial energies were found from running with the prior basis, with lorecommendations turned on.\n",
    "And fixed (rather than allowed to vary). One notes that the small changes in the density should not make a large difference on the corresponding total energy, however including (or excluding) the semi-core\n",
    "states as valence vs core has a much larger effect.\n",
    "\n",
    "The lapw trial energies are set to searchE = true. Need to establish if this can have an effect.\n",
    "\n"
   ],
   "metadata": {
    "collapsed": false,
    "pycharm": {
     "name": "#%% md\n"
    }
   }
  },
  {
   "cell_type": "code",
   "execution_count": 3,
   "outputs": [
    {
     "data": {
      "text/plain": "<Figure size 432x648 with 1 Axes>",
      "image/png": "[encoded data removed]"
     },
     "metadata": {
      "needs_background": "light"
     },
     "output_type": "display_data"
    }
   ],
   "source": [
    "\"\"\"\n",
    "Plot silicon band structure\n",
    "\n",
    "NOTE The band structure data with the updated species file (second_bs.xml), where shallow core states have been\n",
    "moved to the valence, gives deep bands (as expected) and some of the valance bands, but it's missing\n",
    "several valence and all conduction bands. See the black overlay.\n",
    "\"\"\"\n",
    "import matplotlib.pyplot as plt\n",
    "\n",
    "from excitingtools.parser.properties_parser import parse_band_structure_to_arrays, BandData\n",
    "\n",
    "band_data: BandData = parse_band_structure_to_arrays(\"bandstructure.xml\")\n",
    "vertices,labels = band_data.band_path()\n",
    "\n",
    "ha_to_ev = 27.2114\n",
    "fig, ax = plt.subplots(figsize=(6, 9))\n",
    "\n",
    "ax.set_xticks(vertices)\n",
    "ax.set_xticklabels(labels)\n",
    "plt.ylabel('Energy (eV)')\n",
    "\n",
    "# Vertical lines at high symmetry points\n",
    "for x in vertices:\n",
    "    plt.axvline(x, linestyle='--', color='black')\n",
    "\n",
    "# Colour valence and conduction bands differently\n",
    "line_colour = {key:'blue' for key in range(0, 4)}\n",
    "line_colour.update({key:'red' for key in range(4, band_data.n_bands)})\n",
    "\n",
    "for ib in range(0, band_data.n_bands):\n",
    "    plt.plot(band_data.k_points, ha_to_ev * band_data.bands[:, ib], color=line_colour[ib])\n",
    "\n",
    "\n",
    "band_data2: BandData = parse_band_structure_to_arrays(\"second_bs.xml\")\n",
    "for ib in range(0, band_data.n_bands):\n",
    "    plt.plot(band_data.k_points, ha_to_ev * band_data2.bands[:, ib], color='black', linestyle='--')"
   ],
   "metadata": {
    "collapsed": false,
    "pycharm": {
     "name": "#%%\n"
    }
   }
  },
  {
   "cell_type": "markdown",
   "source": [],
   "metadata": {
    "collapsed": false,
    "pycharm": {
     "name": "#%% md\n"
    }
   }
  },
  {
   "cell_type": "code",
   "execution_count": null,
   "outputs": [],
   "source": [],
   "metadata": {
    "collapsed": false,
    "pycharm": {
     "name": "#%%\n"
    }
   }
  }
 ],
 "metadata": {
  "kernelspec": {
   "display_name": "Python 3",
   "language": "python",
   "name": "python3"
  },
  "language_info": {
   "codemirror_mode": {
    "name": "ipython",
    "version": 2
   },
   "file_extension": ".py",
   "mimetype": "text/x-python",
   "name": "python",
   "nbconvert_exporter": "python",
   "pygments_lexer": "ipython2",
   "version": "2.7.6"
  }
 },
 "nbformat": 4,
 "nbformat_minor": 0
}