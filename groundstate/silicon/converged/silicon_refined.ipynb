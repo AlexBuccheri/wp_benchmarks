{
 "cells": [
  {
   "cell_type": "markdown",
   "metadata": {
    "collapsed": true,
    "pycharm": {
     "name": "#%% md\n"
    }
   },
   "source": [
    "# Converged Ground State Silicon\n",
    "\n",
    "\n",
    "\n",
    "\n",
    "\n",
    "\n"
   ]
  },
  {
   "cell_type": "code",
   "execution_count": null,
   "outputs": [],
   "source": [],
   "metadata": {
    "collapsed": false,
    "pycharm": {
     "name": "#%%\n"
    }
   }
  },
  {
   "cell_type": "markdown",
   "source": [
    "### Ground State Calculations with My Basis v.s. Davis' Basis\n",
    "\n",
    "Both of these are run with Oxygen pre-release, however the GW **must** be run with Nitrogen-14.\n",
    "\n",
    "Ground state energy with Davis's APW basis\"\n",
    "Total energy                               :      -579.03829496\n",
    " Estimated fundamental gap                  :         0.01878678\n",
    "\n",
    "\n",
    "With the LAPW basis I set up:\n",
    " Total energy                               :      -579.03837166\n",
    " Estimated fundamental gap                  :         0.01873191\n",
    "\n",
    "Difference in total energy:  0.0000767 Ha / 2.1 meV\n",
    "Difference in estimated gap: 0.00005487 Ha / 1.5 meV"
   ],
   "metadata": {
    "collapsed": false
   }
  },
  {
   "cell_type": "markdown",
   "source": [
    "**TODOs**\n",
    "* Add my basis\n",
    "* Add Davis's basis\n",
    "* Add the final band structure"
   ],
   "metadata": {
    "collapsed": false,
    "pycharm": {
     "name": "#%% md\n"
    }
   }
  },
  {
   "cell_type": "raw",
   "source": [],
   "metadata": {
    "collapsed": false,
    "pycharm": {
     "name": "#%% raw\n"
    }
   }
  }
 ],
 "metadata": {
  "kernelspec": {
   "display_name": "Python 3",
   "language": "python",
   "name": "python3"
  },
  "language_info": {
   "codemirror_mode": {
    "name": "ipython",
    "version": 2
   },
   "file_extension": ".py",
   "mimetype": "text/x-python",
   "name": "python",
   "nbconvert_exporter": "python",
   "pygments_lexer": "ipython2",
   "version": "2.7.6"
  }
 },
 "nbformat": 4,
 "nbformat_minor": 0
}