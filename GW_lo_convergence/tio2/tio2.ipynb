{
 "cells": [
  {
   "cell_type": "markdown",
   "metadata": {
    "collapsed": true,
    "pycharm": {
     "name": "#%% md\n"
    }
   },
   "source": [
    "# TiO2 GW\n",
    "\n",
    "## Settings\n",
    "\n",
    "### Species File\n",
    "* Davis uses APWs due to our use of exciting Nitrogen. Otherwise should be equivalent.\n",
    "* **TODO** Davis uses APWs for Ti but LAPWs for O - query this and fix before submitting any more\n",
    "\n",
    "### Input XML\n",
    "* I used the wrong k-sampling for the ground state calculation. Changed (8, 8, 8) to (6, 6, 10)\n",
    "    * k-sampling should be ~ 1.5x large in Z\n",
    "* For the self-energy, added:\n",
    "    * actype=\"pade\", which should be the default anyway.\n",
    "    * singularity=\"crg\", which is not the default.\n",
    "* Everything else looks fine\n",
    "\n",
    "## GW Calculations\n",
    "* Start running (111), (2,2,3), (4,4,6), (6,6,10), with my modified input.\n",
    "* /users/sol/abuccheri/wp2/tio2/gw\n",
    "* Running\n",
    "    111. Run with mix of basis (see above)\n",
    "    * 223 Run with mix of basis (see above)\n",
    "    * 446 queuing. Configured with mix of basis (see above)\n",
    "    6610. To run"
   ]
  },
  {
   "cell_type": "code",
   "execution_count": null,
   "outputs": [],
   "source": [],
   "metadata": {
    "collapsed": false,
    "pycharm": {
     "name": "#%%\n"
    }
   }
  }
 ],
 "metadata": {
  "kernelspec": {
   "display_name": "Python 3",
   "language": "python",
   "name": "python3"
  },
  "language_info": {
   "codemirror_mode": {
    "name": "ipython",
    "version": 2
   },
   "file_extension": ".py",
   "mimetype": "text/x-python",
   "name": "python",
   "nbconvert_exporter": "python",
   "pygments_lexer": "ipython2",
   "version": "2.7.6"
  }
 },
 "nbformat": 4,
 "nbformat_minor": 0
}