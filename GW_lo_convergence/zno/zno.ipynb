{
 "cells": [
  {
   "cell_type": "markdown",
   "metadata": {
    "collapsed": true,
    "pycharm": {
     "name": "#%% md\n"
    }
   },
   "source": [
    "# ZnO GW\n",
    "\n",
    "## Species File\n",
    "* Davis uses APWs due to our use of exciting Nitrogen. Otherwise should be equivalent.\n",
    "* **Note** both Zn and O use LAPWs, but Davis has informed me they should be APWs for Nitrogen - I've switched them to APWs\n",
    "    * This does, however, indicate that LAPWs are supported in this code version\n",
    "\n",
    "## Input File\n",
    "* Magnitude of lattice vector in z is ~ 1.6 larger than in x or y.\n",
    "    * I note that the latice vectors (or atomic positions>) are changed by exciting, however the 3rd latice vector is still the largest in magnitude.\n",
    "* For the self-energy, added:\n",
    "    * actype=\"pade\", which should be the default anyway.\n",
    "    * singularity=\"crg\", which is not the default.\n",
    "* Everything else looks fine\n",
    "\n",
    "## GW Calculations\n",
    "* Suggests a progression for GW k-sampling of:\n",
    "* /users/sol/abuccheri/wp2/tio2/gw\n",
    "* Running/queuing\n",
    "    * (1, 1, 1)\n",
    "    * (2, 2, 1)\n",
    "    * (4, 4, 3)\n",
    "To Run:\n",
    "    * (6, 6, 4)\n",
    "    * (8, 8, 5)\n",
    "\n",
    "\n",
    "\n",
    "\n",
    "\n",
    "\n",
    "\n",
    "\n"
   ]
  }
 ],
 "metadata": {
  "kernelspec": {
   "display_name": "Python 3",
   "language": "python",
   "name": "python3"
  },
  "language_info": {
   "codemirror_mode": {
    "name": "ipython",
    "version": 2
   },
   "file_extension": ".py",
   "mimetype": "text/x-python",
   "name": "python",
   "nbconvert_exporter": "python",
   "pygments_lexer": "ipython2",
   "version": "2.7.6"
  }
 },
 "nbformat": 4,
 "nbformat_minor": 0
}