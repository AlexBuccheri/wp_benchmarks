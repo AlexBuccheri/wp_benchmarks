{
 "cells": [
  {
   "cell_type": "markdown",
   "metadata": {
    "collapsed": true,
    "pycharm": {
     "name": "#%% md\n"
    }
   },
   "source": [
    "# Silicon GW\n",
    "\n",
    "GW **MUST** be run with exciting nitrogen.\n",
    "\n",
    "One notes that the GW implementation in nitrogen, apparently cannot use LAPW basis, so Davis\n",
    "has opted for APW instead.\n",
    "\n",
    "### Settings\n",
    "\n",
    "## Inputs\n",
    "   * Run with Davis' species file, with no modifications.\n",
    "   * Modify Davis's input file:\n",
    "        * Increased frequency points from 12 to 32. I assume Davis used 12 for speed.\n",
    "        * **Was the effect of `xal` tested?**\n",
    "        * Expand the window for which QP corrections are applied from (9, 16) to (5, 20)\n",
    "        * Explicitly specify the analytic continuation scheme for the self-energy as PADE\n",
    "            * Not sure if AAA is tested, or in nitrogen\n",
    "        * Frequency contour integral is analytic continuation\n",
    "            * Not sure if contour deformation is a) tested in oxygen or b) even present in nitrogen\n",
    "        * Scheme to solve the quasiparticle (non-linear) equation is `perturbative'.\n",
    "            * What does this actually mean? Refer back to the paper.\n",
    "            * Could also use Z=1, or iterative\n",
    "        * Auxiliary function method by P. Carrier, S. Rohra, and A. Goerling, PRB 75, 205126 (2007).\n",
    "            * Consistent with ABINIT\n",
    "            * This is not the default\n",
    "            *\n",
    "\n",
    "## Issues\n",
    "These options are not in nitrogen, so one will need to see what the code is defaulting to:\n",
    "* method=\"ac\"\n",
    "* eqpsolver=\"0\"\n",
    "\n",
    "\n",
    "## Jobs\n",
    "* Process jobs in `/users/sol/abuccheri/wp2/silicon/gw`\n",
    "* Note, done (4,4,4) and (6,6,6). (2,2,2) having problems for some reason."
   ]
  }
 ],
 "metadata": {
  "kernelspec": {
   "display_name": "Python 3",
   "language": "python",
   "name": "python3"
  },
  "language_info": {
   "codemirror_mode": {
    "name": "ipython",
    "version": 2
   },
   "file_extension": ".py",
   "mimetype": "text/x-python",
   "name": "python",
   "nbconvert_exporter": "python",
   "pygments_lexer": "ipython2",
   "version": "2.7.6"
  }
 },
 "nbformat": 4,
 "nbformat_minor": 0
}